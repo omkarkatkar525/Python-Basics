{
  "nbformat": 4,
  "nbformat_minor": 0,
  "metadata": {
    "colab": {
      "name": "Started_with_python.ipynb",
      "provenance": [],
      "collapsed_sections": []
    },
    "kernelspec": {
      "display_name": "Python 3",
      "name": "python3"
    },
    "language_info": {
      "name": "python"
    }
  },
  "cells": [
    {
      "cell_type": "markdown",
      "metadata": {
        "id": "5vkuns7lzz6m"
      },
      "source": [
        "### **Chapter:1 int String Float**"
      ]
    },
    {
      "cell_type": "code",
      "metadata": {
        "id": "eUUO8Hq94DDf"
      },
      "source": [
        "a=23.2"
      ],
      "execution_count": 1,
      "outputs": []
    },
    {
      "cell_type": "code",
      "metadata": {
        "id": "WjTML6xP6YKj",
        "colab": {
          "base_uri": "https://localhost:8080/"
        },
        "outputId": "0afb1b13-0ee5-49ca-bf6b-c5d153bed0f4"
      },
      "source": [
        "type(a)"
      ],
      "execution_count": 2,
      "outputs": [
        {
          "output_type": "execute_result",
          "data": {
            "text/plain": [
              "float"
            ]
          },
          "metadata": {},
          "execution_count": 2
        }
      ]
    },
    {
      "cell_type": "code",
      "metadata": {
        "id": "B1c9MHJg6aDS"
      },
      "source": [
        "Kaa1='           om'"
      ],
      "execution_count": 84,
      "outputs": []
    },
    {
      "cell_type": "code",
      "metadata": {
        "id": "nAnmkHhQ6gFC",
        "colab": {
          "base_uri": "https://localhost:8080/"
        },
        "outputId": "5c56a4e7-eb68-4eff-cc4a-891eaa547358"
      },
      "source": [
        "type(a1)"
      ],
      "execution_count": 85,
      "outputs": [
        {
          "output_type": "execute_result",
          "data": {
            "text/plain": [
              "str"
            ]
          },
          "metadata": {},
          "execution_count": 85
        }
      ]
    },
    {
      "cell_type": "code",
      "metadata": {
        "id": "qkn6epoH6jCR"
      },
      "source": [
        "a=2"
      ],
      "execution_count": 86,
      "outputs": []
    },
    {
      "cell_type": "code",
      "metadata": {
        "id": "WORFUNOWHuBx"
      },
      "source": [
        "b='one'"
      ],
      "execution_count": 6,
      "outputs": []
    },
    {
      "cell_type": "code",
      "metadata": {
        "id": "PwI2Xhox6qoh",
        "colab": {
          "base_uri": "https://localhost:8080/"
        },
        "outputId": "94da1ac1-6485-4311-86e3-b741b8d0b703"
      },
      "source": [
        "type(a)"
      ],
      "execution_count": 7,
      "outputs": [
        {
          "output_type": "execute_result",
          "data": {
            "text/plain": [
              "int"
            ]
          },
          "metadata": {},
          "execution_count": 7
        }
      ]
    },
    {
      "cell_type": "code",
      "metadata": {
        "id": "TNqfAQ6r6rKR"
      },
      "source": [
        "a2=a1.capitalize().strip()"
      ],
      "execution_count": 8,
      "outputs": []
    },
    {
      "cell_type": "code",
      "metadata": {
        "id": "VQ6GxteNG2kw",
        "colab": {
          "base_uri": "https://localhost:8080/"
        },
        "outputId": "6d220d32-3e77-4ce5-f1d5-6220f0dd9629"
      },
      "source": [
        "print(a2,b)"
      ],
      "execution_count": 9,
      "outputs": [
        {
          "output_type": "stream",
          "name": "stdout",
          "text": [
            "om one\n"
          ]
        }
      ]
    },
    {
      "cell_type": "code",
      "metadata": {
        "id": "ARHQXUNQH-Ww",
        "colab": {
          "base_uri": "https://localhost:8080/"
        },
        "outputId": "08caeb1d-4564-49fe-a609-754b9668f321"
      },
      "source": [
        "km= float(input('km= '))\n",
        "miles= km*0.623\n",
        "print('miles = ',miles)"
      ],
      "execution_count": 10,
      "outputs": [
        {
          "output_type": "stream",
          "name": "stdout",
          "text": [
            "km= 20\n",
            "miles =  12.46\n"
          ]
        }
      ]
    },
    {
      "cell_type": "markdown",
      "metadata": {
        "id": "tdABqSN00EaG"
      },
      "source": [
        "**Concatenation indexing and slicing**\n"
      ]
    },
    {
      "cell_type": "code",
      "metadata": {
        "id": "g9HPRDuiWUzX"
      },
      "source": [
        "c = 'om'\n",
        "d = 'kar'\n"
      ],
      "execution_count": 11,
      "outputs": []
    },
    {
      "cell_type": "code",
      "metadata": {
        "id": "oJ4zljZTSHud",
        "colab": {
          "base_uri": "https://localhost:8080/"
        },
        "outputId": "fb4a20dd-feb9-438c-8d51-723b0986455c"
      },
      "source": [
        "print('full name',c,'\\n',d)"
      ],
      "execution_count": 12,
      "outputs": [
        {
          "output_type": "stream",
          "name": "stdout",
          "text": [
            "full name om \n",
            " kar\n"
          ]
        }
      ]
    },
    {
      "cell_type": "code",
      "metadata": {
        "id": "xqj1eNrVSMFo"
      },
      "source": [
        "e='my name is omkar'"
      ],
      "execution_count": 13,
      "outputs": []
    },
    {
      "cell_type": "code",
      "metadata": {
        "id": "_G6rkBkqTlnK",
        "colab": {
          "base_uri": "https://localhost:8080/"
        },
        "outputId": "1c2e28cc-3023-4094-86d4-91e803791da9"
      },
      "source": [
        "e.find('is')"
      ],
      "execution_count": 14,
      "outputs": [
        {
          "output_type": "execute_result",
          "data": {
            "text/plain": [
              "8"
            ]
          },
          "metadata": {},
          "execution_count": 14
        }
      ]
    },
    {
      "cell_type": "code",
      "metadata": {
        "id": "78BMWloiTzmI",
        "colab": {
          "base_uri": "https://localhost:8080/",
          "height": 35
        },
        "outputId": "b822c480-3625-4f5e-83a4-69303f16e037"
      },
      "source": [
        "e[8:]"
      ],
      "execution_count": 15,
      "outputs": [
        {
          "output_type": "execute_result",
          "data": {
            "application/vnd.google.colaboratory.intrinsic+json": {
              "type": "string"
            },
            "text/plain": [
              "'is omkar'"
            ]
          },
          "metadata": {},
          "execution_count": 15
        }
      ]
    },
    {
      "cell_type": "markdown",
      "metadata": {
        "id": "PnJt6rsgYQ02"
      },
      "source": [
        "# **# Chapter: 2 Interact with user input** "
      ]
    },
    {
      "cell_type": "code",
      "metadata": {
        "id": "K7JvYzNKV7aD",
        "colab": {
          "base_uri": "https://localhost:8080/"
        },
        "outputId": "22973187-b7ae-45c6-a95a-d5742630f218"
      },
      "source": [
        "username= input('name')\n",
        "print(username[0])"
      ],
      "execution_count": 16,
      "outputs": [
        {
          "output_type": "stream",
          "name": "stdout",
          "text": [
            "nameomkar\n",
            "o\n"
          ]
        }
      ]
    },
    {
      "cell_type": "code",
      "metadata": {
        "id": "Srdw-NEzT8gN",
        "colab": {
          "base_uri": "https://localhost:8080/"
        },
        "outputId": "448a488c-d890-4997-c293-3f00a1ca2db6"
      },
      "source": [
        "name= input('name: ')\n",
        "surname= input('surname: ')\n",
        "print('fullname: ',name,surname, '\\nsurname : ',surname)"
      ],
      "execution_count": 17,
      "outputs": [
        {
          "output_type": "stream",
          "name": "stdout",
          "text": [
            "name: omkar\n",
            "surname: katkar\n",
            "fullname:  omkar katkar \n",
            "surname :  katkar\n"
          ]
        }
      ]
    },
    {
      "cell_type": "code",
      "metadata": {
        "id": "IgOtK0u9ULTz",
        "colab": {
          "base_uri": "https://localhost:8080/"
        },
        "outputId": "abff3104-99d6-4ac4-9bb2-b9ae35ee332c"
      },
      "source": [
        "name= input('name: ')\n",
        "surname= input('surname: ')\n",
        "print('fullname: {} \\nsurname : {}'.format (name,surname))"
      ],
      "execution_count": 18,
      "outputs": [
        {
          "output_type": "stream",
          "name": "stdout",
          "text": [
            "name: Omkar\n",
            "surname: Katkar\n",
            "fullname: Omkar \n",
            "surname : Katkar\n"
          ]
        }
      ]
    },
    {
      "cell_type": "code",
      "metadata": {
        "id": "Ws5hnOY3Zb0X",
        "colab": {
          "base_uri": "https://localhost:8080/"
        },
        "outputId": "cc9b26dc-5285-4c4d-edce-bc743d75db27"
      },
      "source": [
        "g = 'PYThon is AWesome'\n",
        "print(g)\n",
        "print(g.capitalize())"
      ],
      "execution_count": 19,
      "outputs": [
        {
          "output_type": "stream",
          "name": "stdout",
          "text": [
            "PYThon is AWesome\n",
            "Python is awesome\n"
          ]
        }
      ]
    },
    {
      "cell_type": "code",
      "metadata": {
        "id": "XtMj3da9ZogV",
        "colab": {
          "base_uri": "https://localhost:8080/"
        },
        "outputId": "dd370bcf-cade-417d-f5cf-44473173d609"
      },
      "source": [
        "string = \"python is AWesome.\"\n",
        "\n",
        "capitalized_string = string.capitalize()\n",
        "\n",
        "print('Old String: ', string)\n",
        "print('Capitalized String:', capitalized_string)"
      ],
      "execution_count": 20,
      "outputs": [
        {
          "output_type": "stream",
          "name": "stdout",
          "text": [
            "Old String:  python is AWesome.\n",
            "Capitalized String: Python is awesome.\n"
          ]
        }
      ]
    },
    {
      "cell_type": "code",
      "metadata": {
        "id": "SlnxT46Ia8yT",
        "colab": {
          "base_uri": "https://localhost:8080/"
        },
        "outputId": "5096631f-e393-4fec-f88a-d095af240867"
      },
      "source": [
        "g = '     PYThon is AWesome   '\n",
        "print(g)\n",
        "print(g.lstrip())\n",
        "print(g.rstrip().capitalize())\n",
        "print(g.strip().capitalize())"
      ],
      "execution_count": 21,
      "outputs": [
        {
          "output_type": "stream",
          "name": "stdout",
          "text": [
            "     PYThon is AWesome   \n",
            "PYThon is AWesome   \n",
            "     python is awesome\n",
            "Python is awesome\n"
          ]
        }
      ]
    },
    {
      "cell_type": "markdown",
      "metadata": {
        "id": "DNw1bYawWK_B"
      },
      "source": [
        "# **Chapter: 3 Number in Python**"
      ]
    },
    {
      "cell_type": "code",
      "metadata": {
        "id": "LmgAj2Uxbvle",
        "colab": {
          "base_uri": "https://localhost:8080/"
        },
        "outputId": "d9c46cd6-e0a9-46d8-feca-d224add27dc8"
      },
      "source": [
        "ab= (input('marks: '))"
      ],
      "execution_count": 22,
      "outputs": [
        {
          "name": "stdout",
          "output_type": "stream",
          "text": [
            "marks: 100\n"
          ]
        }
      ]
    },
    {
      "cell_type": "code",
      "metadata": {
        "id": "u90bqnGzXKek",
        "colab": {
          "base_uri": "https://localhost:8080/"
        },
        "outputId": "68b17d5d-dfa9-4178-ff5c-9ecc7b9d1864"
      },
      "source": [
        "type(ab)"
      ],
      "execution_count": 23,
      "outputs": [
        {
          "output_type": "execute_result",
          "data": {
            "text/plain": [
              "str"
            ]
          },
          "metadata": {},
          "execution_count": 23
        }
      ]
    },
    {
      "cell_type": "code",
      "metadata": {
        "colab": {
          "base_uri": "https://localhost:8080/"
        },
        "id": "_8Svky1yXzI7",
        "outputId": "0b1abc78-656e-40e1-a0b2-540a0b1e559c"
      },
      "source": [
        "ab= int(input('marks: '))"
      ],
      "execution_count": 24,
      "outputs": [
        {
          "name": "stdout",
          "output_type": "stream",
          "text": [
            "marks: 100\n"
          ]
        }
      ]
    },
    {
      "cell_type": "code",
      "metadata": {
        "colab": {
          "base_uri": "https://localhost:8080/"
        },
        "id": "5wQihCTnYoX5",
        "outputId": "911cdfbe-7675-4e8a-845b-b5291ae7b6cc"
      },
      "source": [
        "type(ab)"
      ],
      "execution_count": 25,
      "outputs": [
        {
          "output_type": "execute_result",
          "data": {
            "text/plain": [
              "int"
            ]
          },
          "metadata": {},
          "execution_count": 25
        }
      ]
    },
    {
      "cell_type": "code",
      "metadata": {
        "colab": {
          "base_uri": "https://localhost:8080/"
        },
        "id": "LYt35PMDYrUx",
        "outputId": "c7180c88-0c26-4db0-cdb0-4165f5bc0cd1"
      },
      "source": [
        "ab= abs(int(input('marks: ')))"
      ],
      "execution_count": 26,
      "outputs": [
        {
          "name": "stdout",
          "output_type": "stream",
          "text": [
            "marks: 100\n"
          ]
        }
      ]
    },
    {
      "cell_type": "code",
      "metadata": {
        "colab": {
          "base_uri": "https://localhost:8080/"
        },
        "id": "_EOdaUgwY00x",
        "outputId": "86d8a2f6-a3fb-4fcc-ec8e-f620624bf5f8"
      },
      "source": [
        "print(ab)"
      ],
      "execution_count": 27,
      "outputs": [
        {
          "output_type": "stream",
          "name": "stdout",
          "text": [
            "100\n"
          ]
        }
      ]
    },
    {
      "cell_type": "code",
      "metadata": {
        "id": "zqcf5aIpY8Pp"
      },
      "source": [
        ""
      ],
      "execution_count": 27,
      "outputs": []
    },
    {
      "cell_type": "markdown",
      "metadata": {
        "id": "ILLdK8aTZpMB"
      },
      "source": [
        "## **Chapter:4 Function and loops**\n",
        "\n",
        "3 typesof function \n",
        "1) predefined function/ build in function : already defined  and get installed in the anacoda navigator\n",
        "2) user defined functions/ customized function which user can define  \n",
        "3) anonomyous function : nameless function used to accmplish 1 opration at once"
      ]
    },
    {
      "cell_type": "markdown",
      "metadata": {
        "id": "7h03qf7wdWxt"
      },
      "source": [
        "Bulit in function"
      ]
    },
    {
      "cell_type": "code",
      "metadata": {
        "colab": {
          "base_uri": "https://localhost:8080/"
        },
        "id": "5zk-JLqQdcZy",
        "outputId": "ace94bfc-4e62-477f-d337-351e2000cbd1"
      },
      "source": [
        "len (g)"
      ],
      "execution_count": 28,
      "outputs": [
        {
          "output_type": "execute_result",
          "data": {
            "text/plain": [
              "25"
            ]
          },
          "metadata": {},
          "execution_count": 28
        }
      ]
    },
    {
      "cell_type": "markdown",
      "metadata": {
        "id": "bV6CvPXNdWqR"
      },
      "source": [
        "# **User defined Function:**\n"
      ]
    },
    {
      "cell_type": "code",
      "metadata": {
        "id": "HmMRWYY6eQFe"
      },
      "source": [
        "def get_details():\n",
        "  print(\"welcome to python\")\n"
      ],
      "execution_count": 29,
      "outputs": []
    },
    {
      "cell_type": "code",
      "metadata": {
        "colab": {
          "base_uri": "https://localhost:8080/"
        },
        "id": "kCE0DyeEedLZ",
        "outputId": "cb503fae-4ba6-40a3-87ce-3b9a59e28618"
      },
      "source": [
        "get_details()"
      ],
      "execution_count": 30,
      "outputs": [
        {
          "output_type": "stream",
          "name": "stdout",
          "text": [
            "welcome to python\n"
          ]
        }
      ]
    },
    {
      "cell_type": "markdown",
      "metadata": {
        "id": "yfF7__EyJcka"
      },
      "source": [
        "**User defined Function**"
      ]
    },
    {
      "cell_type": "code",
      "metadata": {
        "id": "xnCl7KroJq7h"
      },
      "source": [
        "def get_data():\n",
        "  print('hellow world')"
      ],
      "execution_count": 31,
      "outputs": []
    },
    {
      "cell_type": "code",
      "metadata": {
        "colab": {
          "base_uri": "https://localhost:8080/"
        },
        "id": "IBrAl0vvJ0cx",
        "outputId": "c52a072f-a012-456d-e39b-d95544c6228e"
      },
      "source": [
        "get_data()\n"
      ],
      "execution_count": 32,
      "outputs": [
        {
          "output_type": "stream",
          "name": "stdout",
          "text": [
            "hellow world\n"
          ]
        }
      ]
    },
    {
      "cell_type": "code",
      "metadata": {
        "id": "Yz_Y_2NYJ3SZ"
      },
      "source": [
        "#defining A function\n",
        "def get_details(name,age,comp):\n",
        "  print(\"name: \",name)\n",
        "  print(\"Age: \",age) \n",
        "  print(\"comp: \",comp)"
      ],
      "execution_count": 33,
      "outputs": []
    },
    {
      "cell_type": "code",
      "metadata": {
        "colab": {
          "base_uri": "https://localhost:8080/"
        },
        "id": "XoRrd_EiLM1c",
        "outputId": "3d494288-6d61-426b-efe8-248a3f360331"
      },
      "source": [
        "# calling a Function\n",
        "get_details('omkar',28,'Alten')"
      ],
      "execution_count": 34,
      "outputs": [
        {
          "output_type": "stream",
          "name": "stdout",
          "text": [
            "name:  omkar\n",
            "Age:  28\n",
            "comp:  Alten\n"
          ]
        }
      ]
    },
    {
      "cell_type": "code",
      "metadata": {
        "id": "TBPA4KeiLkKv"
      },
      "source": [
        "#defining A function (defult arrgument)\n",
        "def get_details(name,age,comp='IBM'):\n",
        "  print(\"name: \",name)\n",
        "  print(\"Age: \",age) \n",
        "  print(\"comp: \",comp)\n"
      ],
      "execution_count": 35,
      "outputs": []
    },
    {
      "cell_type": "code",
      "metadata": {
        "colab": {
          "base_uri": "https://localhost:8080/"
        },
        "id": "kx6EttRAsNVu",
        "outputId": "f4570a0f-fbc3-40eb-d1fc-c033f3b3ec44"
      },
      "source": [
        "get_details('om',23)"
      ],
      "execution_count": 36,
      "outputs": [
        {
          "output_type": "stream",
          "name": "stdout",
          "text": [
            "name:  om\n",
            "Age:  23\n",
            "comp:  IBM\n"
          ]
        }
      ]
    },
    {
      "cell_type": "code",
      "metadata": {
        "colab": {
          "base_uri": "https://localhost:8080/"
        },
        "id": "3LRtlSlRsjBm",
        "outputId": "b5062060-de39-47a6-d30c-fee48c23244d"
      },
      "source": [
        "get_details('om',23,'tata')"
      ],
      "execution_count": 37,
      "outputs": [
        {
          "output_type": "stream",
          "name": "stdout",
          "text": [
            "name:  om\n",
            "Age:  23\n",
            "comp:  tata\n"
          ]
        }
      ]
    },
    {
      "cell_type": "markdown",
      "metadata": {
        "id": "C30xI1ahury7"
      },
      "source": [
        "**variable Lenght arrgument denoted by \n",
        "(*Should Come on last variable always)**\n"
      ]
    },
    {
      "cell_type": "code",
      "metadata": {
        "id": "5WPw53qqtSeH"
      },
      "source": [
        "#defining A function \n",
        "def get_details(name,age,*comp):\n",
        "  print(\"name: \",name)\n",
        "  print(\"Age: \",age) \n",
        "  print(\"comp: \",comp)"
      ],
      "execution_count": 38,
      "outputs": []
    },
    {
      "cell_type": "code",
      "metadata": {
        "colab": {
          "base_uri": "https://localhost:8080/"
        },
        "id": "DA6uDH00vBMX",
        "outputId": "95faf49a-acd3-40ad-fec9-e76edcc8bc78"
      },
      "source": [
        "get_details('omkar',28,'piaggio','alten','ExcelR')"
      ],
      "execution_count": 39,
      "outputs": [
        {
          "output_type": "stream",
          "name": "stdout",
          "text": [
            "name:  omkar\n",
            "Age:  28\n",
            "comp:  ('piaggio', 'alten', 'ExcelR')\n"
          ]
        }
      ]
    },
    {
      "cell_type": "markdown",
      "metadata": {
        "id": "b7kH8yemx4Ot"
      },
      "source": [
        "**Keyword variable lenght arrgument**\n"
      ]
    },
    {
      "cell_type": "code",
      "metadata": {
        "id": "eqdMNVDDvRhl"
      },
      "source": [
        "#defining A function \n",
        "def get_details(name,age,**comp):\n",
        "  print(\"name: \",name)\n",
        "  print(\"Age: \",age) \n",
        "  print(\"comp: \",comp)"
      ],
      "execution_count": 40,
      "outputs": []
    },
    {
      "cell_type": "code",
      "metadata": {
        "colab": {
          "base_uri": "https://localhost:8080/"
        },
        "id": "Qi71NB-MyTan",
        "outputId": "e02f5ffe-832d-49a2-d30f-f949c25cf163"
      },
      "source": [
        "get_details('omkar',28,Comp_1='piaggio',Comp_2= 'alten',Comp_3='ExcelR')"
      ],
      "execution_count": 41,
      "outputs": [
        {
          "output_type": "stream",
          "name": "stdout",
          "text": [
            "name:  omkar\n",
            "Age:  28\n",
            "comp:  {'Comp_1': 'piaggio', 'Comp_2': 'alten', 'Comp_3': 'ExcelR'}\n"
          ]
        }
      ]
    },
    {
      "cell_type": "markdown",
      "metadata": {
        "id": "SptjmGYKzVCW"
      },
      "source": [
        "**Combination of variable Lenght arrgument and key variable lenght arrgument**"
      ]
    },
    {
      "cell_type": "code",
      "metadata": {
        "id": "ETMoqC7oyf5p"
      },
      "source": [
        "#defining A function \n",
        "def get_details(age,*name,**comp):\n",
        "  print(\"name: \",name)\n",
        "  print(\"Age: \",age) \n",
        "  print(\"comp: \",comp)\n"
      ],
      "execution_count": 42,
      "outputs": []
    },
    {
      "cell_type": "code",
      "metadata": {
        "colab": {
          "base_uri": "https://localhost:8080/"
        },
        "id": "nnuHkpAjzDyM",
        "outputId": "85f00ac2-8a2f-4e41-93ed-178ffa59a71b"
      },
      "source": [
        "get_details(28,'Omkar','ram',Comp_1='piaggio',Comp_2= 'alten',Comp_3='ExcelR')"
      ],
      "execution_count": 43,
      "outputs": [
        {
          "output_type": "stream",
          "name": "stdout",
          "text": [
            "name:  ('Omkar', 'ram')\n",
            "Age:  28\n",
            "comp:  {'Comp_1': 'piaggio', 'Comp_2': 'alten', 'Comp_3': 'ExcelR'}\n"
          ]
        }
      ]
    },
    {
      "cell_type": "code",
      "metadata": {
        "id": "MeUfnra7zMHM"
      },
      "source": [
        "def add_num(num_1,num_2):\n",
        "  print('num_1:',num_1)\n",
        "  print('num_2:',num_2)\n",
        "  return num_1+num_2 #UDF(user defined Function) will end Here"
      ],
      "execution_count": 44,
      "outputs": []
    },
    {
      "cell_type": "code",
      "metadata": {
        "colab": {
          "base_uri": "https://localhost:8080/"
        },
        "id": "ep80BEXm1ICs",
        "outputId": "e01c36f8-278f-4f40-c84f-9ecb2cf212ae"
      },
      "source": [
        "add_num (546546,365465)"
      ],
      "execution_count": 45,
      "outputs": [
        {
          "output_type": "stream",
          "name": "stdout",
          "text": [
            "num_1: 546546\n",
            "num_2: 365465\n"
          ]
        },
        {
          "output_type": "execute_result",
          "data": {
            "text/plain": [
              "912011"
            ]
          },
          "metadata": {},
          "execution_count": 45
        }
      ]
    },
    {
      "cell_type": "markdown",
      "metadata": {
        "id": "hEn1sAFXieYf"
      },
      "source": [
        "**Run in Circle**"
      ]
    },
    {
      "cell_type": "code",
      "metadata": {
        "colab": {
          "base_uri": "https://localhost:8080/"
        },
        "id": "GV7gv11R1gWW",
        "outputId": "334c278a-ead7-4a2f-e275-0a34830a8235"
      },
      "source": [
        "for a in range(1,20):\n",
        "  print (a)"
      ],
      "execution_count": 46,
      "outputs": [
        {
          "output_type": "stream",
          "name": "stdout",
          "text": [
            "1\n",
            "2\n",
            "3\n",
            "4\n",
            "5\n",
            "6\n",
            "7\n",
            "8\n",
            "9\n",
            "10\n",
            "11\n",
            "12\n",
            "13\n",
            "14\n",
            "15\n",
            "16\n",
            "17\n",
            "18\n",
            "19\n"
          ]
        }
      ]
    },
    {
      "cell_type": "code",
      "metadata": {
        "colab": {
          "base_uri": "https://localhost:8080/"
        },
        "id": "NuIu1G9Rio3W",
        "outputId": "f3234ad3-a9ef-44dd-fe84-641e9895df23"
      },
      "source": [
        "for a in range(1,20,3):\n",
        "  print (a)"
      ],
      "execution_count": 47,
      "outputs": [
        {
          "output_type": "stream",
          "name": "stdout",
          "text": [
            "1\n",
            "4\n",
            "7\n",
            "10\n",
            "13\n",
            "16\n",
            "19\n"
          ]
        }
      ]
    },
    {
      "cell_type": "code",
      "metadata": {
        "id": "6F4YMKWEjYTC"
      },
      "source": [
        "def values_in_range(start,end,gap):\n",
        "  for a in range(start,end,gap):\n",
        "    print (a)"
      ],
      "execution_count": 48,
      "outputs": []
    },
    {
      "cell_type": "code",
      "metadata": {
        "colab": {
          "base_uri": "https://localhost:8080/"
        },
        "id": "1goiRWUOmNP3",
        "outputId": "8176036d-33ac-4a17-c595-e49ebe9954f8"
      },
      "source": [
        "values_in_range(1,20,2)"
      ],
      "execution_count": 49,
      "outputs": [
        {
          "output_type": "stream",
          "name": "stdout",
          "text": [
            "1\n",
            "3\n",
            "5\n",
            "7\n",
            "9\n",
            "11\n",
            "13\n",
            "15\n",
            "17\n",
            "19\n"
          ]
        }
      ]
    },
    {
      "cell_type": "code",
      "metadata": {
        "id": "ZLVXJfTLmRQ7"
      },
      "source": [
        "def name(name):\n",
        "  for a in name:\n",
        "    print(a)"
      ],
      "execution_count": 50,
      "outputs": []
    },
    {
      "cell_type": "code",
      "metadata": {
        "colab": {
          "base_uri": "https://localhost:8080/"
        },
        "id": "V686q-6inP8p",
        "outputId": "674b2041-e4b3-4c2e-9a8e-1ac3971bb703"
      },
      "source": [
        "name('omkar katkar')"
      ],
      "execution_count": 51,
      "outputs": [
        {
          "output_type": "stream",
          "name": "stdout",
          "text": [
            "o\n",
            "m\n",
            "k\n",
            "a\n",
            "r\n",
            " \n",
            "k\n",
            "a\n",
            "t\n",
            "k\n",
            "a\n",
            "r\n"
          ]
        }
      ]
    },
    {
      "cell_type": "markdown",
      "metadata": {
        "id": "iHLr2zbaucOU"
      },
      "source": [
        "**5) Conditional Logic**"
      ]
    },
    {
      "cell_type": "markdown",
      "metadata": {
        "id": "xUVXoZQjuiEE"
      },
      "source": [
        "**5.1) Compair values**"
      ]
    },
    {
      "cell_type": "code",
      "metadata": {
        "colab": {
          "base_uri": "https://localhost:8080/"
        },
        "id": "1TTSetu7nUIC",
        "outputId": "388dbeaf-8ba4-4cdd-e302-697f5184e312"
      },
      "source": [
        "5 == 5 "
      ],
      "execution_count": 52,
      "outputs": [
        {
          "output_type": "execute_result",
          "data": {
            "text/plain": [
              "True"
            ]
          },
          "metadata": {},
          "execution_count": 52
        }
      ]
    },
    {
      "cell_type": "code",
      "metadata": {
        "colab": {
          "base_uri": "https://localhost:8080/"
        },
        "id": "FAn045YUu63f",
        "outputId": "3574bfd9-571f-4aa6-bd4a-a889db4ec0b4"
      },
      "source": [
        "5 == 4"
      ],
      "execution_count": 53,
      "outputs": [
        {
          "output_type": "execute_result",
          "data": {
            "text/plain": [
              "False"
            ]
          },
          "metadata": {},
          "execution_count": 53
        }
      ]
    },
    {
      "cell_type": "code",
      "metadata": {
        "colab": {
          "base_uri": "https://localhost:8080/"
        },
        "id": "IhaTq46bu8Uv",
        "outputId": "86f38ce9-487f-4408-dbfe-ff5ecd3c300d"
      },
      "source": [
        "5 != 4 "
      ],
      "execution_count": 54,
      "outputs": [
        {
          "output_type": "execute_result",
          "data": {
            "text/plain": [
              "True"
            ]
          },
          "metadata": {},
          "execution_count": 54
        }
      ]
    },
    {
      "cell_type": "code",
      "metadata": {
        "colab": {
          "base_uri": "https://localhost:8080/"
        },
        "id": "ID_x7AaIvEXe",
        "outputId": "bc75fe75-17a4-47ec-9eb6-e2d62478c2a3"
      },
      "source": [
        "'h' == 'h'"
      ],
      "execution_count": 55,
      "outputs": [
        {
          "output_type": "execute_result",
          "data": {
            "text/plain": [
              "True"
            ]
          },
          "metadata": {},
          "execution_count": 55
        }
      ]
    },
    {
      "cell_type": "code",
      "metadata": {
        "colab": {
          "base_uri": "https://localhost:8080/"
        },
        "id": "7BztDo-tvIof",
        "outputId": "958a5704-244d-4cfe-9992-44f7aada7f97"
      },
      "source": [
        "4 % 2 # remaider"
      ],
      "execution_count": 56,
      "outputs": [
        {
          "output_type": "execute_result",
          "data": {
            "text/plain": [
              "0"
            ]
          },
          "metadata": {},
          "execution_count": 56
        }
      ]
    },
    {
      "cell_type": "code",
      "metadata": {
        "colab": {
          "base_uri": "https://localhost:8080/"
        },
        "id": "3pybJ35KvKUv",
        "outputId": "044e0f5f-185e-4f2e-d410-cd6af06a6a05"
      },
      "source": [
        "4 / 2"
      ],
      "execution_count": 57,
      "outputs": [
        {
          "output_type": "execute_result",
          "data": {
            "text/plain": [
              "2.0"
            ]
          },
          "metadata": {},
          "execution_count": 57
        }
      ]
    },
    {
      "cell_type": "code",
      "metadata": {
        "colab": {
          "base_uri": "https://localhost:8080/"
        },
        "id": "HA8AMpVdvd3B",
        "outputId": "61f9f292-7d75-4202-df71-d86fca3cbe52"
      },
      "source": [
        "454564%5"
      ],
      "execution_count": 58,
      "outputs": [
        {
          "output_type": "execute_result",
          "data": {
            "text/plain": [
              "4"
            ]
          },
          "metadata": {},
          "execution_count": 58
        }
      ]
    },
    {
      "cell_type": "markdown",
      "metadata": {
        "id": "Fnr8To9OxMRu"
      },
      "source": [
        "**5.2) Add some logic\n",
        "AND,OR, IN , NOT IN** "
      ]
    },
    {
      "cell_type": "code",
      "metadata": {
        "id": "KxRIYJTbvhog"
      },
      "source": [
        "math = 90\n",
        "phy = 96 \n",
        "chem = 85"
      ],
      "execution_count": 59,
      "outputs": []
    },
    {
      "cell_type": "code",
      "metadata": {
        "colab": {
          "base_uri": "https://localhost:8080/"
        },
        "id": "Liolby-qxY2P",
        "outputId": "62a1d832-6a45-4892-df05-5a93e842de67"
      },
      "source": [
        "math > chem"
      ],
      "execution_count": 60,
      "outputs": [
        {
          "output_type": "execute_result",
          "data": {
            "text/plain": [
              "True"
            ]
          },
          "metadata": {},
          "execution_count": 60
        }
      ]
    },
    {
      "cell_type": "code",
      "metadata": {
        "colab": {
          "base_uri": "https://localhost:8080/"
        },
        "id": "WG8AOH8Exo3H",
        "outputId": "9e624e56-c5b9-45ac-a435-631788669851"
      },
      "source": [
        "phy < math"
      ],
      "execution_count": 61,
      "outputs": [
        {
          "output_type": "execute_result",
          "data": {
            "text/plain": [
              "False"
            ]
          },
          "metadata": {},
          "execution_count": 61
        }
      ]
    },
    {
      "cell_type": "code",
      "metadata": {
        "colab": {
          "base_uri": "https://localhost:8080/"
        },
        "id": "IS-VwCrixrBG",
        "outputId": "c261ccf6-dfc8-4667-d3c2-2b208a72034c"
      },
      "source": [
        "math > chem and phy < math"
      ],
      "execution_count": 62,
      "outputs": [
        {
          "output_type": "execute_result",
          "data": {
            "text/plain": [
              "False"
            ]
          },
          "metadata": {},
          "execution_count": 62
        }
      ]
    },
    {
      "cell_type": "code",
      "metadata": {
        "colab": {
          "base_uri": "https://localhost:8080/"
        },
        "id": "YIjgDKDaymTB",
        "outputId": "279e6e09-e4d8-455c-e26b-dd36ea422bae"
      },
      "source": [
        "math > chem or phy < math"
      ],
      "execution_count": 63,
      "outputs": [
        {
          "output_type": "execute_result",
          "data": {
            "text/plain": [
              "True"
            ]
          },
          "metadata": {},
          "execution_count": 63
        }
      ]
    },
    {
      "cell_type": "code",
      "metadata": {
        "colab": {
          "base_uri": "https://localhost:8080/"
        },
        "id": "kEppDHx7x2SH",
        "outputId": "4ac22b25-745a-4332-d234-eebe5e80fa32"
      },
      "source": [
        "math > chem and phy > math"
      ],
      "execution_count": 64,
      "outputs": [
        {
          "output_type": "execute_result",
          "data": {
            "text/plain": [
              "True"
            ]
          },
          "metadata": {},
          "execution_count": 64
        }
      ]
    },
    {
      "cell_type": "code",
      "metadata": {
        "colab": {
          "base_uri": "https://localhost:8080/",
          "height": 35
        },
        "id": "MJY7eRrvx5oX",
        "outputId": "01b09d6c-77cb-4cff-b351-7fc9a9bf6e4e"
      },
      "source": [
        "feedback = 'The session is good but going little fast'\n",
        "feedback"
      ],
      "execution_count": 65,
      "outputs": [
        {
          "output_type": "execute_result",
          "data": {
            "application/vnd.google.colaboratory.intrinsic+json": {
              "type": "string"
            },
            "text/plain": [
              "'The session is good but going little fast'"
            ]
          },
          "metadata": {},
          "execution_count": 65
        }
      ]
    },
    {
      "cell_type": "code",
      "metadata": {
        "colab": {
          "base_uri": "https://localhost:8080/"
        },
        "id": "FvMilk5byKun",
        "outputId": "9c2d9f7e-9ce7-4ea9-8817-5b665ac95614"
      },
      "source": [
        "'fast' in feedback"
      ],
      "execution_count": 66,
      "outputs": [
        {
          "output_type": "execute_result",
          "data": {
            "text/plain": [
              "True"
            ]
          },
          "metadata": {},
          "execution_count": 66
        }
      ]
    },
    {
      "cell_type": "code",
      "metadata": {
        "colab": {
          "base_uri": "https://localhost:8080/"
        },
        "id": "g4uSSyR5yR8I",
        "outputId": "466a258d-0d05-4c73-fc17-a9ce559c5785"
      },
      "source": [
        "'fast' not in feedback"
      ],
      "execution_count": 67,
      "outputs": [
        {
          "output_type": "execute_result",
          "data": {
            "text/plain": [
              "False"
            ]
          },
          "metadata": {},
          "execution_count": 67
        }
      ]
    },
    {
      "cell_type": "markdown",
      "metadata": {
        "id": "-Jq02S_50PPO"
      },
      "source": [
        "**5.3) Control the flow of program**"
      ]
    },
    {
      "cell_type": "code",
      "metadata": {
        "colab": {
          "base_uri": "https://localhost:8080/"
        },
        "id": "wy1XbnaoybDZ",
        "outputId": "f02717fa-d3c1-4536-cf55-ea4540e06102"
      },
      "source": [
        "password = input('Enter the password: ')\n",
        "if len(password)<5:\n",
        "  print ('Password is Weak')\n",
        "else:\n",
        "  print('Strong Password')"
      ],
      "execution_count": 68,
      "outputs": [
        {
          "output_type": "stream",
          "name": "stdout",
          "text": [
            "Enter the password: qwerty\n",
            "Strong Password\n"
          ]
        }
      ]
    },
    {
      "cell_type": "code",
      "metadata": {
        "colab": {
          "base_uri": "https://localhost:8080/"
        },
        "id": "BgerNFd91R60",
        "outputId": "ac28cdb4-5c3c-4d30-c086-87cd54dd1c3f"
      },
      "source": [
        "password = input('Enter the password: ')\n",
        "if len(password)<5:\n",
        "  print ('Password is Weak')\n",
        "else:\n",
        "  print('Strong Password')"
      ],
      "execution_count": 69,
      "outputs": [
        {
          "output_type": "stream",
          "name": "stdout",
          "text": [
            "Enter the password: qwer\n",
            "Password is Weak\n"
          ]
        }
      ]
    },
    {
      "cell_type": "code",
      "metadata": {
        "colab": {
          "base_uri": "https://localhost:8080/"
        },
        "id": "10glkgFX1zn9",
        "outputId": "5d9934b8-bdb4-41b1-dcef-1dc76487584e"
      },
      "source": [
        "password = input('Enter the password: ')\n",
        "if len(password)<5:\n",
        "  print ('Password is Weak')\n",
        "elif len(password)<10:\n",
        "  print('Moderate Password')\n",
        "else:\n",
        "  print('Strong Password')"
      ],
      "execution_count": 70,
      "outputs": [
        {
          "output_type": "stream",
          "name": "stdout",
          "text": [
            "Enter the password: qwerqw\n",
            "Moderate Password\n"
          ]
        }
      ]
    },
    {
      "cell_type": "markdown",
      "metadata": {
        "id": "ERUcE3Ay3wKX"
      },
      "source": [
        "**5.4) challenage to find the factors of a number**"
      ]
    },
    {
      "cell_type": "code",
      "metadata": {
        "colab": {
          "base_uri": "https://localhost:8080/"
        },
        "id": "NfuFErrF3WwF",
        "outputId": "f24ed067-f829-4199-825d-379f6c5a6790"
      },
      "source": [
        "Number_to_find_factors = int(input('Number_to_find_factors: '))\n",
        "b= []\n",
        "for a in range(1,Number_to_find_factors+1,1):\n",
        "  if Number_to_find_factors%a == 0:\n",
        "    b.append(a)\n",
        "    print(b)\n",
        "print(b)"
      ],
      "execution_count": 87,
      "outputs": [
        {
          "output_type": "stream",
          "name": "stdout",
          "text": [
            "Number_to_find_factors: 50\n",
            "[1]\n",
            "[1, 2]\n",
            "[1, 2, 5]\n",
            "[1, 2, 5, 10]\n",
            "[1, 2, 5, 10, 25]\n",
            "[1, 2, 5, 10, 25, 50]\n",
            "[1, 2, 5, 10, 25, 50]\n"
          ]
        }
      ]
    },
    {
      "cell_type": "code",
      "metadata": {
        "id": "GXeXJ5Rf5FIH",
        "colab": {
          "base_uri": "https://localhost:8080/"
        },
        "outputId": "792440e5-3ae7-4f51-e113-0cc85c105aef"
      },
      "source": [
        "Number_to_find_factors = int(input('Number_to_find_factors: '))\n",
        "for a in range(1,Number_to_find_factors+1,1):\n",
        "  if Number_to_find_factors%a == 0:\n",
        "   \n",
        "    print('{} is factor of this {}'.format(a,Number_to_find_factors))"
      ],
      "execution_count": 72,
      "outputs": [
        {
          "output_type": "stream",
          "name": "stdout",
          "text": [
            "Number_to_find_factors: 50\n",
            "1 is factor of this 50\n",
            "2 is factor of this 50\n",
            "5 is factor of this 50\n",
            "10 is factor of this 50\n",
            "25 is factor of this 50\n",
            "50 is factor of this 50\n"
          ]
        }
      ]
    },
    {
      "cell_type": "markdown",
      "metadata": {
        "id": "AiQniJKIbJNS"
      },
      "source": [
        "** 5.5) Brake out of the pattern**"
      ]
    },
    {
      "cell_type": "code",
      "metadata": {
        "colab": {
          "base_uri": "https://localhost:8080/"
        },
        "id": "yix4-8GKZtnD",
        "outputId": "420eed60-8457-4a9d-b77b-759fa41941a2"
      },
      "source": [
        "while True:\n",
        "  input_value = input('Type q to quit this window..')\n",
        "  if input_value == 'q':\n",
        "      break"
      ],
      "execution_count": 73,
      "outputs": [
        {
          "name": "stdout",
          "output_type": "stream",
          "text": [
            "Type q to quit this window..q\n"
          ]
        }
      ]
    },
    {
      "cell_type": "code",
      "metadata": {
        "colab": {
          "base_uri": "https://localhost:8080/"
        },
        "id": "jT9XtMfachuh",
        "outputId": "5b8220ad-7f26-4da7-d97b-88d0546a2986"
      },
      "source": [
        "while True:\n",
        "  input_value = input('Type q to quit this window..')\n",
        "  if input_value.lower() == 'q':\n",
        "      break"
      ],
      "execution_count": 88,
      "outputs": [
        {
          "name": "stdout",
          "output_type": "stream",
          "text": [
            "Type q to quit this window..q\n"
          ]
        }
      ]
    },
    {
      "cell_type": "code",
      "metadata": {
        "id": "UcPnrOBKdgBf",
        "colab": {
          "base_uri": "https://localhost:8080/"
        },
        "outputId": "d6289afd-57da-4604-ee67-3b446504ff44"
      },
      "source": [
        "for i in range(1,101,1):\n",
        "  if i%2 == 0:\n",
        "    print(i)"
      ],
      "execution_count": 89,
      "outputs": [
        {
          "output_type": "stream",
          "name": "stdout",
          "text": [
            "2\n",
            "4\n",
            "6\n",
            "8\n",
            "10\n",
            "12\n",
            "14\n",
            "16\n",
            "18\n",
            "20\n",
            "22\n",
            "24\n",
            "26\n",
            "28\n",
            "30\n",
            "32\n",
            "34\n",
            "36\n",
            "38\n",
            "40\n",
            "42\n",
            "44\n",
            "46\n",
            "48\n",
            "50\n",
            "52\n",
            "54\n",
            "56\n",
            "58\n",
            "60\n",
            "62\n",
            "64\n",
            "66\n",
            "68\n",
            "70\n",
            "72\n",
            "74\n",
            "76\n",
            "78\n",
            "80\n",
            "82\n",
            "84\n",
            "86\n",
            "88\n",
            "90\n",
            "92\n",
            "94\n",
            "96\n",
            "98\n",
            "100\n"
          ]
        }
      ]
    },
    {
      "cell_type": "code",
      "metadata": {
        "id": "D_L_caeEfl8E",
        "colab": {
          "base_uri": "https://localhost:8080/"
        },
        "outputId": "8bd26cf0-78bd-4383-b709-2f085fe73ade"
      },
      "source": [
        "for i in range(1,101,1):\n",
        "  if i%2 == 0:\n",
        "    continue\n",
        "  print(i)"
      ],
      "execution_count": 76,
      "outputs": [
        {
          "output_type": "stream",
          "name": "stdout",
          "text": [
            "1\n",
            "3\n",
            "5\n",
            "7\n",
            "9\n",
            "11\n",
            "13\n",
            "15\n",
            "17\n",
            "19\n",
            "21\n",
            "23\n",
            "25\n",
            "27\n",
            "29\n",
            "31\n",
            "33\n",
            "35\n",
            "37\n",
            "39\n",
            "41\n",
            "43\n",
            "45\n",
            "47\n",
            "49\n",
            "51\n",
            "53\n",
            "55\n",
            "57\n",
            "59\n",
            "61\n",
            "63\n",
            "65\n",
            "67\n",
            "69\n",
            "71\n",
            "73\n",
            "75\n",
            "77\n",
            "79\n",
            "81\n",
            "83\n",
            "85\n",
            "87\n",
            "89\n",
            "91\n",
            "93\n",
            "95\n",
            "97\n",
            "99\n"
          ]
        }
      ]
    },
    {
      "cell_type": "code",
      "metadata": {
        "colab": {
          "base_uri": "https://localhost:8080/"
        },
        "id": "PVJjBVkCfvd2",
        "outputId": "15b31a17-5361-44a0-d81c-d3b2b6281cd0"
      },
      "source": [
        "for i in range(1,101,1):\n",
        "  if i%2 == 0:\n",
        "    break\n",
        "  print(i)"
      ],
      "execution_count": 90,
      "outputs": [
        {
          "output_type": "stream",
          "name": "stdout",
          "text": [
            "1\n"
          ]
        }
      ]
    },
    {
      "cell_type": "code",
      "metadata": {
        "id": "EW2SbU3IUucc"
      },
      "source": [
        ""
      ],
      "execution_count": 83,
      "outputs": []
    }
  ]
}